{
 "cells": [
  {
   "cell_type": "code",
   "execution_count": 1,
   "metadata": {},
   "outputs": [],
   "source": [
    "import pandas as pd\n",
    "from sklearn.model_selection import train_test_split\n",
    "from sklearn.linear_model import LogisticRegression\n",
    "from sklearn.metrics import accuracy_score\n",
    "import numpy as np\n",
    "import seaborn as sns\n",
    "import matplotlib.pyplot as plt\n",
    "import pickle"
   ]
  },
  {
   "cell_type": "code",
   "execution_count": 2,
   "metadata": {},
   "outputs": [
    {
     "name": "stdout",
     "output_type": "stream",
     "text": [
      "['AB3 - Main 3L', 'Sub - Feeder F02', 'BS4 - Main 4R', 'BS1 - Main 1L']\n"
     ]
    }
   ],
   "source": [
    "# Load the data into a pandas dataframe\n",
    "path = '../data_new/supervised-dropped/'\n",
    "files=[]\n",
    "df2 = pd.read_csv('../data_new/train_data_v3.csv')\n",
    "fac_loc_list = df2.loc[:, 'Measure'].unique()\n",
    "\n",
    "for fac_loc in fac_loc_list:\n",
    "    cur_df = df2[df2['Measure'] == fac_loc]\n",
    "    if len(cur_df['label'].unique()) > 1:\n",
    "        # print('Current Measure: ' + fac_loc)\n",
    "        files.append(fac_loc)\n",
    "print(files)\n",
    "\n",
    "# Load model\n",
    "with open('../models/supervised_rfc_model.pickle', 'rb') as f:\n",
    "    model = pickle.load(f)"
   ]
  },
  {
   "cell_type": "code",
   "execution_count": 18,
   "metadata": {},
   "outputs": [
    {
     "name": "stdout",
     "output_type": "stream",
     "text": [
      "Training on: AB3 - Main 3L\n",
      "Training accuracy: 0.8538926413082119\n",
      "Training accuracy: 0.9097034053460271\n",
      "Training accuracy: 0.9315912117177098\n",
      "Training accuracy: 0.9449528996830215\n",
      "Training on: Sub - Feeder F02\n",
      "Training accuracy: 0.7958904109589041\n",
      "Training accuracy: 0.8620609847827345\n",
      "Training accuracy: 0.8914439233186102\n",
      "Training accuracy: 0.9105138695994895\n",
      "Training accuracy: 0.9239140841923851\n",
      "Training on: BS4 - Main 4R\n",
      "Training accuracy: 0.8277861069465268\n",
      "Training accuracy: 0.8894875248540824\n",
      "Training accuracy: 0.9134953308565117\n",
      "Training accuracy: 0.9292460578186597\n"
     ]
    }
   ],
   "source": [
    "# Train a logistic regression classifier on the labeled data\n",
    "# clf = LogisticRegression(random_state=42)\n",
    "\n",
    "for j in range (3):\n",
    "    print(f\"Training on: {files[j]}\")\n",
    "    df = pd.read_csv(path+files[j]+'.csv')\n",
    "    \n",
    "    # Split the data into a labeled set and an unlabeled set\n",
    "    train_df, unlabeled_df = train_test_split(df, test_size=0.5, stratify=df['label']) # , random_state=42\n",
    "    model.fit(train_df[['kWh']], train_df['label']) # clf.fit(train_df[['kWh']], train_df['label'])\n",
    "\n",
    "    \n",
    "    # Evaluate the classifier's accuracy on the labeled data\n",
    "    train_preds = model.predict(train_df[['kWh']]) # train_preds = clf.predict(train_df[['kWh']])\n",
    "    train_acc = accuracy_score(train_df['label'], train_preds)\n",
    "    print('Training accuracy:', train_acc)\n",
    "        \n",
    "    # Use the classifier to predict labels for the unlabeled data\n",
    "    unlabeled_preds = model.predict(unlabeled_df[['kWh']]) # unlabeled_preds = clf.predict(unlabeled_df[['kWh']])\n",
    "    \n",
    "    # Select the most confident predictions and add them to the labeled data\n",
    "    max_confidence = np.max(model.predict_proba(unlabeled_df[['kWh']]), axis=1) # max_confidence = np.max(clf.predict_proba(unlabeled_df[['kWh']]), axis=1)\n",
    "    new_labeled_df = unlabeled_df[max_confidence > 0.85].copy()\n",
    "    new_labeled_df['label'] = unlabeled_preds[max_confidence > 0.85]\n",
    "    prev_labeled_df = new_labeled_df.copy()\n",
    "\n",
    "    for i in range(10):\n",
    "        # Add the new labeled data to the training set\n",
    "        train_df = pd.concat([train_df, new_labeled_df], axis=0)\n",
    "    \n",
    "        # Retrain the classifier on the updated labeled data\n",
    "        model.fit(train_df[['kWh']], train_df['label']) # clf.fit(train_df[['kWh']], train_df['label'])\n",
    "    \n",
    "        # Evaluate the classifier's accuracy on the labeled data\n",
    "        train_preds = model.predict(train_df[['kWh']]) # train_preds = clf.predict(train_df[['kWh']])\n",
    "        train_acc = accuracy_score(train_df['label'], train_preds)\n",
    "        print('Training accuracy:', train_acc)\n",
    "    \n",
    "        # Use the classifier to predict labels for the unlabeled data\n",
    "        unlabeled_preds = model.predict(unlabeled_df[['kWh']]) # unlabeled_preds = clf.predict(unlabeled_df[['kWh']])\n",
    "    \n",
    "        # Select the most confident predictions and add them to the labeled data\n",
    "        max_confidence = np.max(model.predict_proba(unlabeled_df[['kWh']]), axis=1) # max_confidence = np.max(clf.predict_proba(unlabeled_df[['kWh']]), axis=1)\n",
    "        new_labeled_df = unlabeled_df[max_confidence > 0.95].copy()\n",
    "        new_labeled_df['label'] = unlabeled_preds[max_confidence > 0.95]\n",
    "    \n",
    "        # Check for convergence by comparing the new labeled data to the previous iteration\n",
    "        if new_labeled_df.equals(prev_labeled_df):\n",
    "            break\n",
    "        prev_labeled_df = new_labeled_df.copy()"
   ]
  },
  {
   "cell_type": "code",
   "execution_count": 19,
   "metadata": {},
   "outputs": [],
   "source": [
    "def plot_eval(test_df, y_pred):\n",
    "    test_df['predicted_label'] = model.predict(test_df[['kWh']])\n",
    "    sns.scatterplot(x=test_df.index, y=test_df['kWh'], hue=y_pred)\n",
    "    plt.title(f'Prediction: {files[3]}')\n",
    "    plt.show()"
   ]
  },
  {
   "cell_type": "code",
   "execution_count": 20,
   "metadata": {},
   "outputs": [
    {
     "name": "stdout",
     "output_type": "stream",
     "text": [
      "Test accuracy: 0.7374316457929088\n"
     ]
    }
   ],
   "source": [
    "test_df = pd.read_csv(path+files[3]+'.csv')  # load the test data\n",
    "\n",
    "# Use the classifier to predict labels for the test data\n",
    "y_pred = model.predict(test_df[['kWh']])\n",
    "test_acc = accuracy_score(test_df['label'], y_pred)\n",
    "print('Test accuracy:', test_acc)\n",
    "\n",
    "\n",
    "# Use the classifier to predict labels for the test data\n",
    "# plot_eval(test_df, y_pred)"
   ]
  },
  {
   "cell_type": "code",
   "execution_count": null,
   "metadata": {},
   "outputs": [],
   "source": []
  }
 ],
 "metadata": {
  "kernelspec": {
   "display_name": "Python 3",
   "language": "python",
   "name": "python3"
  },
  "language_info": {
   "codemirror_mode": {
    "name": "ipython",
    "version": 3
   },
   "file_extension": ".py",
   "mimetype": "text/x-python",
   "name": "python",
   "nbconvert_exporter": "python",
   "pygments_lexer": "ipython3",
   "version": "3.10.6"
  },
  "orig_nbformat": 4,
  "vscode": {
   "interpreter": {
    "hash": "916dbcbb3f70747c44a77c7bcd40155683ae19c65e1c03b4aa3499c5328201f1"
   }
  }
 },
 "nbformat": 4,
 "nbformat_minor": 2
}
