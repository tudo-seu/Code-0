{
 "cells": [
  {
   "attachments": {},
   "cell_type": "markdown",
   "metadata": {},
   "source": [
    "# Pipeline"
   ]
  },
  {
   "cell_type": "code",
   "execution_count": 1,
   "metadata": {},
   "outputs": [],
   "source": [
    "# imports\n",
    "import pickle\n",
    "import pandas as pd\n",
    "from sklearn.preprocessing import StandardScaler, LabelEncoder\n",
    "from sklearn.metrics import accuracy_score"
   ]
  },
  {
   "cell_type": "code",
   "execution_count": 2,
   "metadata": {},
   "outputs": [],
   "source": [
    "# settings\n",
    "input_file_path = 'data_new/holdout_v3.csv'"
   ]
  },
  {
   "cell_type": "code",
   "execution_count": 3,
   "metadata": {},
   "outputs": [],
   "source": [
    "df = pd.read_csv(input_file_path)"
   ]
  },
  {
   "cell_type": "code",
   "execution_count": 4,
   "metadata": {},
   "outputs": [],
   "source": [
    "with open('models/supervised_15m_rfc_model.pickle', 'rb') as f:\n",
    "    model = pickle.load(f)"
   ]
  },
  {
   "cell_type": "code",
   "execution_count": 5,
   "metadata": {},
   "outputs": [
    {
     "data": {
      "text/html": [
       "<div>\n",
       "<style scoped>\n",
       "    .dataframe tbody tr th:only-of-type {\n",
       "        vertical-align: middle;\n",
       "    }\n",
       "\n",
       "    .dataframe tbody tr th {\n",
       "        vertical-align: top;\n",
       "    }\n",
       "\n",
       "    .dataframe thead th {\n",
       "        text-align: right;\n",
       "    }\n",
       "</style>\n",
       "<table border=\"1\" class=\"dataframe\">\n",
       "  <thead>\n",
       "    <tr style=\"text-align: right;\">\n",
       "      <th></th>\n",
       "      <th>time</th>\n",
       "      <th>Measure</th>\n",
       "      <th>kWh</th>\n",
       "    </tr>\n",
       "  </thead>\n",
       "  <tbody>\n",
       "    <tr>\n",
       "      <th>0</th>\n",
       "      <td>2020-07-27 00:00:00</td>\n",
       "      <td>Sub - Feeder F08</td>\n",
       "      <td>481.500</td>\n",
       "    </tr>\n",
       "    <tr>\n",
       "      <th>1</th>\n",
       "      <td>2020-07-27 00:15:00</td>\n",
       "      <td>Sub - Feeder F08</td>\n",
       "      <td>481.375</td>\n",
       "    </tr>\n",
       "    <tr>\n",
       "      <th>2</th>\n",
       "      <td>2020-07-27 00:30:00</td>\n",
       "      <td>Sub - Feeder F08</td>\n",
       "      <td>481.250</td>\n",
       "    </tr>\n",
       "    <tr>\n",
       "      <th>3</th>\n",
       "      <td>2020-07-27 00:45:00</td>\n",
       "      <td>Sub - Feeder F08</td>\n",
       "      <td>481.125</td>\n",
       "    </tr>\n",
       "    <tr>\n",
       "      <th>4</th>\n",
       "      <td>2020-07-27 01:00:00</td>\n",
       "      <td>Sub - Feeder F08</td>\n",
       "      <td>481.000</td>\n",
       "    </tr>\n",
       "  </tbody>\n",
       "</table>\n",
       "</div>"
      ],
      "text/plain": [
       "                  time           Measure      kWh\n",
       "0  2020-07-27 00:00:00  Sub - Feeder F08  481.500\n",
       "1  2020-07-27 00:15:00  Sub - Feeder F08  481.375\n",
       "2  2020-07-27 00:30:00  Sub - Feeder F08  481.250\n",
       "3  2020-07-27 00:45:00  Sub - Feeder F08  481.125\n",
       "4  2020-07-27 01:00:00  Sub - Feeder F08  481.000"
      ]
     },
     "execution_count": 5,
     "metadata": {},
     "output_type": "execute_result"
    }
   ],
   "source": [
    "test_df = df.drop(columns='label')\n",
    "test_df.head()"
   ]
  },
  {
   "cell_type": "code",
   "execution_count": 6,
   "metadata": {},
   "outputs": [
    {
     "name": "stdout",
     "output_type": "stream",
     "text": [
      "Accuracy on new data: 0.8656994047619048\n",
      "Labels:    [0 0 0 ... 0 0 0]\n",
      "Predicted: [0 0 0 ... 0 0 0]\n"
     ]
    }
   ],
   "source": [
    "# Preprocessing\n",
    "test_df['time'] = pd.to_datetime(test_df['time'])\n",
    "test_df['year'] = test_df['time'].dt.year\n",
    "test_df['month'] = test_df['time'].dt.month\n",
    "test_df['day'] = test_df['time'].dt.day\n",
    "test_df['hour'] = test_df['time'].dt.hour\n",
    "test_df['weekday'] = test_df['time'].dt.weekday\n",
    "test_df = test_df.drop('time', axis=1)\n",
    "test_df['Measure'] = LabelEncoder().fit_transform(test_df['Measure'])\n",
    "scaler = StandardScaler()\n",
    "test_df['kWh'] = scaler.fit_transform(test_df[['kWh']])\n",
    "# test_df['label'] = LabelEncoder().fit_transform(test_df['label'])\n",
    "\n",
    "# Predict\n",
    "new_pred = model.predict(test_df)\n",
    "new_pred\n",
    "\n",
    "# Load the correct labels for the new data\n",
    "y = pd.read_csv(input_file_path)['label']\n",
    "\n",
    "# encode y\n",
    "le = LabelEncoder()\n",
    "y_encoded = le.fit_transform(y)\n",
    "\n",
    "# Calculate the accuracy of the model on the new data\n",
    "new_accuracy = accuracy_score(y_encoded, new_pred)\n",
    "print(\"Accuracy on new data:\", new_accuracy)\n",
    "print(f\"Labels:    {y_encoded}\")\n",
    "print(f\"Predicted: {new_pred}\")"
   ]
  }
 ],
 "metadata": {
  "kernelspec": {
   "display_name": "Python 3",
   "language": "python",
   "name": "python3"
  },
  "language_info": {
   "codemirror_mode": {
    "name": "ipython",
    "version": 3
   },
   "file_extension": ".py",
   "mimetype": "text/x-python",
   "name": "python",
   "nbconvert_exporter": "python",
   "pygments_lexer": "ipython3",
   "version": "3.10.6"
  },
  "orig_nbformat": 4,
  "vscode": {
   "interpreter": {
    "hash": "916dbcbb3f70747c44a77c7bcd40155683ae19c65e1c03b4aa3499c5328201f1"
   }
  }
 },
 "nbformat": 4,
 "nbformat_minor": 2
}
